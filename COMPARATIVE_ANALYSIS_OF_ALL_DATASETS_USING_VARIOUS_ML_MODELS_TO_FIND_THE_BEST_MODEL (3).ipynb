{
  "nbformat": 4,
  "nbformat_minor": 0,
  "metadata": {
    "colab": {
      "provenance": []
    },
    "kernelspec": {
      "name": "python3",
      "display_name": "Python 3"
    },
    "language_info": {
      "name": "python"
    }
  },
  "cells": [
    {
      "cell_type": "markdown",
      "source": [
        "COMPARATIVE ANALYSIS OF ALL DATASETS USING VARIOUS ML MODELS AND HYBRID MODEL TO FIND THE BEST MODEL"
      ],
      "metadata": {
        "id": "KJ5JWUREjRNC"
      }
    },
    {
      "cell_type": "code",
      "execution_count": null,
      "metadata": {
        "id": "aubnovz4e2j-"
      },
      "outputs": [],
      "source": [
        "import pandas as pd\n",
        "import numpy as np\n",
        "import pandas as pd\n",
        "import re\n",
        "import string\n",
        "import nltk\n",
        "from tracemalloc import stop\n",
        "from nltk.corpus import stopwords\n",
        "from nltk.tokenize import word_tokenize\n",
        "from nltk.stem.porter import PorterStemmer\n",
        "from sklearn.feature_extraction.text import TfidfVectorizer\n",
        "from sklearn.feature_extraction.text import CountVectorizer\n",
        "from sklearn.model_selection import train_test_split\n",
        "from sklearn.linear_model import LogisticRegression\n",
        "from sklearn.tree import DecisionTreeClassifier\n",
        "from sklearn.ensemble import RandomForestClassifier, VotingClassifier\n",
        "from sklearn.neighbors import KNeighborsClassifier\n",
        "from sklearn.naive_bayes import MultinomialNB\n",
        "from sklearn.metrics import classification_report,confusion_matrix,accuracy_score"
      ]
    },
    {
      "cell_type": "code",
      "source": [
        "dsarc = pd.read_csv('Sarcasm Detection.csv')\n",
        "dhate = pd.read_csv('Hate Content Detection.csv')\n",
        "dsent = pd.read_csv('Sentiment Analysis.csv')\n",
        "dspam = pd.read_csv('Spam Detection.csv')"
      ],
      "metadata": {
        "id": "fa3XM49Nfe1n"
      },
      "execution_count": null,
      "outputs": []
    },
    {
      "cell_type": "code",
      "source": [
        "dsarc.info()"
      ],
      "metadata": {
        "colab": {
          "base_uri": "https://localhost:8080/"
        },
        "id": "HQRxoB8zf4XN",
        "outputId": "8af2b264-2608-4267-b632-90d48ec3ee5d"
      },
      "execution_count": null,
      "outputs": [
        {
          "output_type": "stream",
          "name": "stdout",
          "text": [
            "<class 'pandas.core.frame.DataFrame'>\n",
            "RangeIndex: 4553 entries, 0 to 4552\n",
            "Data columns (total 2 columns):\n",
            " #   Column  Non-Null Count  Dtype \n",
            "---  ------  --------------  ----- \n",
            " 0   Tweet   4553 non-null   object\n",
            " 1   Label   4553 non-null   int64 \n",
            "dtypes: int64(1), object(1)\n",
            "memory usage: 71.3+ KB\n"
          ]
        }
      ]
    },
    {
      "cell_type": "code",
      "source": [
        "dhate.info()"
      ],
      "metadata": {
        "colab": {
          "base_uri": "https://localhost:8080/"
        },
        "id": "-zbkXW0Uf_ck",
        "outputId": "fb976a85-9220-4e8b-9e8b-c74405657b4a"
      },
      "execution_count": null,
      "outputs": [
        {
          "output_type": "stream",
          "name": "stdout",
          "text": [
            "<class 'pandas.core.frame.DataFrame'>\n",
            "RangeIndex: 24783 entries, 0 to 24782\n",
            "Data columns (total 7 columns):\n",
            " #   Column              Non-Null Count  Dtype \n",
            "---  ------              --------------  ----- \n",
            " 0   Unnamed: 0          24783 non-null  int64 \n",
            " 1   count               24783 non-null  int64 \n",
            " 2   hate_speech         24783 non-null  int64 \n",
            " 3   offensive_language  24783 non-null  int64 \n",
            " 4   neither             24783 non-null  int64 \n",
            " 5   class               24783 non-null  int64 \n",
            " 6   tweet               24783 non-null  object\n",
            "dtypes: int64(6), object(1)\n",
            "memory usage: 1.3+ MB\n"
          ]
        }
      ]
    },
    {
      "cell_type": "code",
      "source": [
        "dsent.info()"
      ],
      "metadata": {
        "colab": {
          "base_uri": "https://localhost:8080/"
        },
        "id": "U54NNUwvgCk0",
        "outputId": "b11959ab-9b5e-40a9-d0a2-cc4feef79795"
      },
      "execution_count": null,
      "outputs": [
        {
          "output_type": "stream",
          "name": "stdout",
          "text": [
            "<class 'pandas.core.frame.DataFrame'>\n",
            "RangeIndex: 5000 entries, 0 to 4999\n",
            "Data columns (total 2 columns):\n",
            " #   Column  Non-Null Count  Dtype \n",
            "---  ------  --------------  ----- \n",
            " 0   text    5000 non-null   object\n",
            " 1   label   5000 non-null   int64 \n",
            "dtypes: int64(1), object(1)\n",
            "memory usage: 78.2+ KB\n"
          ]
        }
      ]
    },
    {
      "cell_type": "code",
      "source": [
        "nltk.download('punkt')\n",
        "nltk.download('stopwords')\n",
        "sw=nltk.corpus.stopwords.words(\"english\")"
      ],
      "metadata": {
        "id": "8SJh9SHBordn"
      },
      "execution_count": null,
      "outputs": []
    },
    {
      "cell_type": "code",
      "source": [
        "\n",
        "\n",
        "def transform_text(text):\n",
        "    text=text.lower()\n",
        "    text=nltk.word_tokenize(text)\n",
        "    y=[]\n",
        "    for i in text:\n",
        "        if i.isalnum():\n",
        "            y.append(i)\n",
        "    text=y[:]\n",
        "    y.clear()\n",
        "    for i in text:\n",
        "        if i not in stopwords.words('english') and i not in string.punctuation:\n",
        "            y.append(i)\n",
        "    text=y[:]\n",
        "    y.clear()\n",
        "    ps=PorterStemmer()\n",
        "    for i in text:\n",
        "        y.append(ps.stem(i))\n",
        "    return \" \".join(y)\n",
        "\n",
        "\n"
      ],
      "metadata": {
        "id": "corhZTP_ob7V"
      },
      "execution_count": 3,
      "outputs": []
    },
    {
      "cell_type": "code",
      "source": [
        "tfidf1=TfidfVectorizer(stop_words=sw,max_features=20)\n",
        "def transform1(txt1):\n",
        "    txt2=tfidf1.fit_transform(txt1)\n",
        "    return txt2.toarray()"
      ],
      "metadata": {
        "id": "olGTsPPKozcB"
      },
      "execution_count": null,
      "outputs": []
    },
    {
      "cell_type": "markdown",
      "source": [
        "SPAM DETECTION"
      ],
      "metadata": {
        "id": "7RtjVyvXsufu"
      }
    },
    {
      "cell_type": "markdown",
      "source": [
        "DECISION TREE"
      ],
      "metadata": {
        "id": "M9FCugFxv1sE"
      }
    },
    {
      "cell_type": "code",
      "source": [
        "\n",
        "X = dspam['v2']\n",
        "y = dspam['v1']\n",
        "\n",
        "# Split the data into training and testing sets\n",
        "X_train_dspam, X_test_dspam, y_train_dspam, y_test_dspam = train_test_split(X, y, test_size=0.2, random_state=42)\n",
        "\n",
        "# Vectorize the text data using CountVectorizer\n",
        "vectorizer = CountVectorizer()\n",
        "X_train_dspam_vectorized = vectorizer.fit_transform(X_train_dspam)\n",
        "X_test_dspam_vectorized = vectorizer.transform(X_test_dspam)\n",
        "\n",
        "# Create a decision tree classifier\n",
        "clf = DecisionTreeClassifier()\n",
        "\n",
        "# Train the classifier\n",
        "clf.fit(X_train_dspam_vectorized, y_train_dspam)\n",
        "\n",
        "# Make predictions on the test set\n",
        "spam_dc_predictions = clf.predict(X_test_dspam_vectorized)\n",
        "\n",
        "# Evaluate the accuracy of the model\n",
        "accuracy = accuracy_score(y_test_dspam, spam_dc_predictions)\n",
        "print(f\"Accuracy: {accuracy * 100:.2f}%\")"
      ],
      "metadata": {
        "colab": {
          "base_uri": "https://localhost:8080/"
        },
        "id": "bLKTVu7Zsxeh",
        "outputId": "8feb6ad0-2f93-4f66-efa6-25f7fe7ae608"
      },
      "execution_count": null,
      "outputs": [
        {
          "output_type": "stream",
          "name": "stdout",
          "text": [
            "Accuracy: 96.86%\n"
          ]
        }
      ]
    },
    {
      "cell_type": "markdown",
      "source": [
        "RANDOM FOREST"
      ],
      "metadata": {
        "id": "N4gu47brvqG8"
      }
    },
    {
      "cell_type": "code",
      "source": [
        "\n",
        "rf_classifier = RandomForestClassifier(n_estimators=100, random_state=42)\n",
        "\n",
        "# Train the classifier\n",
        "rf_classifier.fit(X_train_dspam_vectorized, y_train_dspam)\n",
        "\n",
        "# Make predictions on the test set\n",
        "spam_rf_predictions = rf_classifier.predict(X_test_dspam_vectorized)\n",
        "\n",
        "# Evaluate the accuracy of the model\n",
        "accuracy = accuracy_score(y_test_dspam, spam_rf_predictions)\n",
        "print(f\"Accuracy: {accuracy * 100:.2f}%\")"
      ],
      "metadata": {
        "colab": {
          "base_uri": "https://localhost:8080/"
        },
        "id": "ckmXOxI0vDRz",
        "outputId": "440702a4-fde3-4329-e766-69838103a193"
      },
      "execution_count": null,
      "outputs": [
        {
          "output_type": "stream",
          "name": "stdout",
          "text": [
            "Accuracy: 97.53%\n"
          ]
        }
      ]
    },
    {
      "cell_type": "markdown",
      "source": [
        "NAIVE BAYES"
      ],
      "metadata": {
        "id": "bZAK0PTEvsN1"
      }
    },
    {
      "cell_type": "code",
      "source": [
        "nb_classifier = MultinomialNB()\n",
        "\n",
        "# Train the classifier\n",
        "nb_classifier.fit(X_train_dspam_vectorized, y_train_dspam)\n",
        "\n",
        "# Make predictions on the test set\n",
        "nb_dspam_predictions = nb_classifier.predict(X_test_dspam_vectorized)\n",
        "\n",
        "# Evaluate the accuracy of the model\n",
        "accuracy = accuracy_score(y_test_dspam, nb_dspam_predictions)\n",
        "print(f\"Accuracy: {accuracy * 100:.2f}%\")"
      ],
      "metadata": {
        "colab": {
          "base_uri": "https://localhost:8080/"
        },
        "id": "Vybw9qJ8vIMX",
        "outputId": "b476c25e-4ae1-47f7-ec78-b908667cbc5b"
      },
      "execution_count": null,
      "outputs": [
        {
          "output_type": "stream",
          "name": "stdout",
          "text": [
            "Accuracy: 98.32%\n"
          ]
        }
      ]
    },
    {
      "cell_type": "markdown",
      "source": [
        "KNN"
      ],
      "metadata": {
        "id": "j7Fw9FjwvuHs"
      }
    },
    {
      "cell_type": "code",
      "source": [
        "knn_classifier = KNeighborsClassifier(n_neighbors=5)  # You can adjust the number of neighbors (n_neighbors) based on your specific requirements\n",
        "\n",
        "# Train the classifier\n",
        "knn_classifier.fit(X_train_dspam_vectorized, y_train_dspam)\n",
        "\n",
        "# Make predictions on the test set\n",
        "spam_kn_predictions = knn_classifier.predict(X_test_dspam_vectorized)\n",
        "\n",
        "# Evaluate the accuracy of the model\n",
        "accuracy = accuracy_score(y_test_dspam, spam_kn_predictions)\n",
        "print(f\"Accuracy: {accuracy * 100:.2f}%\")"
      ],
      "metadata": {
        "colab": {
          "base_uri": "https://localhost:8080/"
        },
        "id": "27iXl5MIvMk1",
        "outputId": "d2131b9e-3aa2-4c76-f71e-74f870f63c44"
      },
      "execution_count": null,
      "outputs": [
        {
          "output_type": "stream",
          "name": "stdout",
          "text": [
            "Accuracy: 91.70%\n"
          ]
        }
      ]
    },
    {
      "cell_type": "markdown",
      "source": [
        "LOGISTIC REGRESSION"
      ],
      "metadata": {
        "id": "qGUFOIvsvwD7"
      }
    },
    {
      "cell_type": "code",
      "source": [
        "logreg_classifier = LogisticRegression(max_iter=100, random_state=42)\n",
        "\n",
        "# Train the classifier\n",
        "logreg_classifier.fit(X_train_dspam_vectorized, y_train_dspam)\n",
        "\n",
        "# Make predictions on the test set\n",
        "spam_lr_predictions = logreg_classifier.predict(X_test_dspam_vectorized)\n",
        "\n",
        "# Evaluate the accuracy of the model\n",
        "accuracy = accuracy_score(y_test_dspam, spam_lr_predictions)\n",
        "print(f\"Accuracy: {accuracy * 100:.2f}%\")"
      ],
      "metadata": {
        "colab": {
          "base_uri": "https://localhost:8080/"
        },
        "id": "hBCRdRPBvSr-",
        "outputId": "c7654c4e-9761-44b5-eb94-483a3a855616"
      },
      "execution_count": null,
      "outputs": [
        {
          "output_type": "stream",
          "name": "stdout",
          "text": [
            "Accuracy: 98.54%\n"
          ]
        }
      ]
    },
    {
      "cell_type": "markdown",
      "source": [
        "HYBRID MODEL OF RANDOM FOREST AND NAIVE BAYES"
      ],
      "metadata": {
        "id": "p1VOU7X-w8mH"
      }
    },
    {
      "cell_type": "code",
      "source": [
        "from sklearn.model_selection import train_test_split\n",
        "from sklearn.ensemble import RandomForestClassifier, VotingClassifier\n",
        "from sklearn.naive_bayes import MultinomialNB\n",
        "from sklearn.feature_extraction.text import TfidfVectorizer\n",
        "from sklearn.metrics import accuracy_score, classification_report\n",
        "\n",
        "# Split the data into training and testing sets\n",
        "X_train, X_test, y_train, y_test = train_test_split(X, y, test_size=0.2, random_state=42)\n",
        "\n",
        "# Create the TfidfVectorizer to convert text data to numerical features\n",
        "tfidf_vectorizer = TfidfVectorizer(max_features=5000)\n",
        "X_train_tfidf = tfidf_vectorizer.fit_transform(X_train)\n",
        "X_test_tfidf = tfidf_vectorizer.transform(X_test)\n",
        "\n",
        "# Create individual models\n",
        "random_forest_model = RandomForestClassifier(n_estimators=100, random_state=42)\n",
        "naive_bayes_model = MultinomialNB()\n",
        "\n",
        "# Create a Voting Classifier with a soft voting strategy\n",
        "voting_classifier = VotingClassifier(estimators=[\n",
        "    ('random_forest', random_forest_model),\n",
        "    ('naive_bayes', naive_bayes_model)\n",
        "], voting='soft')\n",
        "\n",
        "# Train the ensemble model\n",
        "voting_classifier.fit(X_train_tfidf, y_train)\n",
        "\n",
        "# Make predictions on the test set\n",
        "predictions = voting_classifier.predict(X_test_tfidf)\n",
        "\n",
        "# Evaluate the hybrid model\n",
        "accuracy = accuracy_score(y_test, predictions)\n",
        "print(f\"Hybrid Model Accuracy: {accuracy * 100:.2f}%\")"
      ],
      "metadata": {
        "colab": {
          "base_uri": "https://localhost:8080/"
        },
        "id": "aOFQavIXwyEb",
        "outputId": "6245808e-aa0e-40fa-a905-95e70fa73ded"
      },
      "execution_count": null,
      "outputs": [
        {
          "output_type": "stream",
          "name": "stdout",
          "text": [
            "Hybrid Model Accuracy: 97.65%\n"
          ]
        }
      ]
    },
    {
      "cell_type": "markdown",
      "source": [
        "SARCASM DETECTION"
      ],
      "metadata": {
        "id": "6Mr7ODb1gaTd"
      }
    },
    {
      "cell_type": "markdown",
      "source": [
        "DECISION TREE"
      ],
      "metadata": {
        "id": "aR44skifv6fm"
      }
    },
    {
      "cell_type": "code",
      "source": [
        "X = dsarc['Tweet']\n",
        "y = dsarc['Label']\n",
        "\n",
        "# Split the data into training and testing sets\n",
        "X_train_dsarc, X_test_dsarc, y_train_dsarc, y_test_dsarc = train_test_split(X, y, test_size=0.2, random_state=42)\n",
        "\n",
        "# Vectorize the text data using CountVectorizer\n",
        "vectorizer = CountVectorizer()\n",
        "X_train_dsarc_vectorized = vectorizer.fit_transform(X_train_dsarc)\n",
        "X_test_dsarc_vectorized = vectorizer.transform(X_test_dsarc)\n",
        "\n",
        "# Create a decision tree classifier\n",
        "clf = DecisionTreeClassifier()\n",
        "\n",
        "# Train the classifier\n",
        "clf.fit(X_train_dsarc_vectorized, y_train_dsarc)\n",
        "\n",
        "# Make predictions on the test set\n",
        "sarc_dc_predictions = clf.predict(X_test_dsarc_vectorized)\n",
        "\n",
        "# Evaluate the accuracy of the model\n",
        "accuracy = accuracy_score(y_test_dsarc, sarc_dc_predictions)\n",
        "print(f\"Accuracy: {accuracy * 100:.2f}%\")"
      ],
      "metadata": {
        "colab": {
          "base_uri": "https://localhost:8080/"
        },
        "id": "09v-fXeygK0L",
        "outputId": "62cb3177-b400-4f06-daf8-bb3f4b19955c"
      },
      "execution_count": null,
      "outputs": [
        {
          "output_type": "stream",
          "name": "stdout",
          "text": [
            "Accuracy: 92.76%\n"
          ]
        }
      ]
    },
    {
      "cell_type": "markdown",
      "source": [
        "RANDOM FOREST"
      ],
      "metadata": {
        "id": "TP9M1Ve1v8Nw"
      }
    },
    {
      "cell_type": "code",
      "source": [
        "rf_classifier = RandomForestClassifier(n_estimators=100, random_state=42)\n",
        "\n",
        "# Train the classifier\n",
        "rf_classifier.fit(X_train_dsarc_vectorized, y_train_dsarc)\n",
        "\n",
        "# Make predictions on the test set\n",
        "sarc_rf_predictions = rf_classifier.predict(X_test_dsarc_vectorized)\n",
        "\n",
        "# Evaluate the accuracy of the model\n",
        "accuracy = accuracy_score(y_test_dsarc, sarc_rf_predictions)\n",
        "print(f\"Accuracy: {accuracy * 100:.2f}%\")"
      ],
      "metadata": {
        "colab": {
          "base_uri": "https://localhost:8080/"
        },
        "id": "P8aRRSUmgkFl",
        "outputId": "dca36aa1-ca5c-4fba-bafd-2d9baeaabbd5"
      },
      "execution_count": null,
      "outputs": [
        {
          "output_type": "stream",
          "name": "stdout",
          "text": [
            "Accuracy: 93.30%\n"
          ]
        }
      ]
    },
    {
      "cell_type": "markdown",
      "source": [
        "LOGISTIC REGRESSION"
      ],
      "metadata": {
        "id": "I5NDZehov98b"
      }
    },
    {
      "cell_type": "code",
      "source": [
        "logreg_classifier = LogisticRegression(max_iter=100, random_state=42)\n",
        "\n",
        "# Train the classifier\n",
        "logreg_classifier.fit(X_train_dsarc_vectorized, y_train_dsarc)\n",
        "\n",
        "# Make predictions on the test set\n",
        "sarc_lr_predictions = logreg_classifier.predict(X_test_dsarc_vectorized)\n",
        "\n",
        "# Evaluate the accuracy of the model\n",
        "accuracy = accuracy_score(y_test_dsarc, sarc_lr_predictions)\n",
        "print(f\"Accuracy: {accuracy * 100:.2f}%\")"
      ],
      "metadata": {
        "colab": {
          "base_uri": "https://localhost:8080/"
        },
        "id": "5l4OwVPygp2G",
        "outputId": "97a15d96-5772-46ae-bb6f-fdcc6bf6897a"
      },
      "execution_count": null,
      "outputs": [
        {
          "output_type": "stream",
          "name": "stdout",
          "text": [
            "Accuracy: 93.63%\n"
          ]
        }
      ]
    },
    {
      "cell_type": "markdown",
      "source": [
        "KNN"
      ],
      "metadata": {
        "id": "Y8mntKc6wASc"
      }
    },
    {
      "cell_type": "code",
      "source": [
        "knn_classifier = KNeighborsClassifier(n_neighbors=5)  # You can adjust the number of neighbors (n_neighbors) based on your specific requirements\n",
        "\n",
        "# Train the classifier\n",
        "knn_classifier.fit(X_train_dsarc_vectorized, y_train_dsarc)\n",
        "\n",
        "# Make predictions on the test set\n",
        "sarc_kn_predictions = knn_classifier.predict(X_test_dsarc_vectorized)\n",
        "\n",
        "# Evaluate the accuracy of the model\n",
        "accuracy = accuracy_score(y_test_dsarc, sarc_kn_predictions)\n",
        "print(f\"Accuracy: {accuracy * 100:.2f}%\")"
      ],
      "metadata": {
        "colab": {
          "base_uri": "https://localhost:8080/"
        },
        "id": "jphbUd2HgwHJ",
        "outputId": "ec0ab81e-d51f-48a9-e01b-20919a5ffe7f"
      },
      "execution_count": null,
      "outputs": [
        {
          "output_type": "stream",
          "name": "stdout",
          "text": [
            "Accuracy: 91.99%\n"
          ]
        }
      ]
    },
    {
      "cell_type": "markdown",
      "source": [
        "NAIVE BAYES"
      ],
      "metadata": {
        "id": "rmLe2QlnwBjc"
      }
    },
    {
      "cell_type": "code",
      "source": [
        "\n",
        "nb_classifier = MultinomialNB()\n",
        "\n",
        "# Train the classifier\n",
        "nb_classifier.fit(X_train_dsarc_vectorized, y_train_dsarc)\n",
        "\n",
        "# Make predictions on the test set\n",
        "nb_dsarc_predictions = nb_classifier.predict(X_test_dsarc_vectorized)\n",
        "\n",
        "# Evaluate the accuracy of the model\n",
        "accuracy = accuracy_score(y_test_dsarc, nb_dsarc_predictions)\n",
        "print(f\"Accuracy: {accuracy * 100:.2f}%\")"
      ],
      "metadata": {
        "colab": {
          "base_uri": "https://localhost:8080/"
        },
        "id": "qY2ml67hg0lF",
        "outputId": "d7caf24e-433a-4803-cbe6-ed92f4daaefd"
      },
      "execution_count": null,
      "outputs": [
        {
          "output_type": "stream",
          "name": "stdout",
          "text": [
            "Accuracy: 90.23%\n"
          ]
        }
      ]
    },
    {
      "cell_type": "markdown",
      "source": [
        "HYBRID MODEL OF RANDOM FOREST AND LOGISTIC REGRESSION"
      ],
      "metadata": {
        "id": "suJ1pEsNnk4W"
      }
    },
    {
      "cell_type": "code",
      "source": [
        "X_train, X_test, y_train, y_test = train_test_split(X, y, test_size=0.2, random_state=42)\n",
        "\n",
        "tfidf_vectorizer = TfidfVectorizer(max_features=5000)\n",
        "X_train_tfidf = tfidf_vectorizer.fit_transform(X_train)\n",
        "X_test_tfidf = tfidf_vectorizer.transform(X_test)\n",
        "\n",
        "# Create individual models\n",
        "rf_model = RandomForestClassifier(n_estimators=100, random_state=42)\n",
        "lr_model = LogisticRegression(random_state=42)\n",
        "\n",
        "# Create a Voting Classifier with a soft voting strategy\n",
        "voting_classifier = VotingClassifier(estimators=[\n",
        "    ('random_forest', rf_model),\n",
        "    ('logistic_regression', lr_model)\n",
        "], voting='soft')\n",
        "\n",
        "voting_classifier.fit(X_train_tfidf, y_train)\n",
        "\n",
        "predictions = voting_classifier.predict(X_test_tfidf)\n",
        "\n",
        "# Evaluate the accuracy of the model\n",
        "accuracy = accuracy_score(y_test, predictions)\n",
        "print(f\"Hybrid Model Accuracy: {accuracy* 100:.2f}%\")"
      ],
      "metadata": {
        "colab": {
          "base_uri": "https://localhost:8080/"
        },
        "id": "wtlV3KoVeIni",
        "outputId": "35229746-79f5-4f3d-c5b4-1dfabda6e658"
      },
      "execution_count": null,
      "outputs": [
        {
          "output_type": "stream",
          "name": "stdout",
          "text": [
            "Hybrid Model Accuracy: 92.65%\n"
          ]
        }
      ]
    },
    {
      "cell_type": "markdown",
      "source": [
        "SENTIMENT ANALYSIS"
      ],
      "metadata": {
        "id": "ys16E4CZjJwu"
      }
    },
    {
      "cell_type": "markdown",
      "source": [
        "DECISION TREE"
      ],
      "metadata": {
        "id": "uTzL4tPXwHyn"
      }
    },
    {
      "cell_type": "code",
      "source": [
        "X = dsent['text']\n",
        "y = dsent['label']\n",
        "\n",
        "# Split the data into training and testing sets\n",
        "X_train_dsent, X_test_dsent, y_train_dsent, y_test_dsent = train_test_split(X, y, test_size=0.2, random_state=42)\n",
        "\n",
        "# Vectorize the text data using CountVectorizer\n",
        "vectorizer = CountVectorizer()\n",
        "X_train_dsent_vectorized = vectorizer.fit_transform(X_train_dsent)\n",
        "X_test_dsent_vectorized = vectorizer.transform(X_test_dsent)\n",
        "\n",
        "# Create a decision tree classifier\n",
        "clf = DecisionTreeClassifier()\n",
        "\n",
        "# Train the classifier\n",
        "clf.fit(X_train_dsent_vectorized, y_train_dsent)\n",
        "\n",
        "# Make predictions on the test set\n",
        "sent_dc_predictions = clf.predict(X_test_dsent_vectorized)\n",
        "\n",
        "# Evaluate the accuracy of the model\n",
        "accuracy = accuracy_score(y_test_dsent, sent_dc_predictions)\n",
        "print(f\"Accuracy: {accuracy * 100:.2f}%\")"
      ],
      "metadata": {
        "colab": {
          "base_uri": "https://localhost:8080/"
        },
        "id": "VSBTdc2DhTmQ",
        "outputId": "81bda3a1-b8ce-4f66-b356-6d4d66fe106f"
      },
      "execution_count": null,
      "outputs": [
        {
          "output_type": "stream",
          "name": "stdout",
          "text": [
            "Accuracy: 67.40%\n"
          ]
        }
      ]
    },
    {
      "cell_type": "markdown",
      "source": [
        "RANDOM FOREST"
      ],
      "metadata": {
        "id": "CnFuWkzvwJ26"
      }
    },
    {
      "cell_type": "code",
      "source": [
        "rf_classifier = RandomForestClassifier(n_estimators=100, random_state=42)\n",
        "\n",
        "# Train the classifier\n",
        "rf_classifier.fit(X_train_dsent_vectorized, y_train_dsent)\n",
        "\n",
        "# Make predictions on the test set\n",
        "sent_rf_predictions = rf_classifier.predict(X_test_dsent_vectorized)\n",
        "\n",
        "# Evaluate the accuracy of the model\n",
        "accuracy = accuracy_score(y_test_dsent, sent_rf_predictions)\n",
        "print(f\"Accuracy: {accuracy * 100:.2f}%\")"
      ],
      "metadata": {
        "colab": {
          "base_uri": "https://localhost:8080/"
        },
        "id": "vT-LL3sYhe-4",
        "outputId": "7838345d-7e8c-45aa-fda7-a617058623c7"
      },
      "execution_count": null,
      "outputs": [
        {
          "output_type": "stream",
          "name": "stdout",
          "text": [
            "Accuracy: 83.30%\n"
          ]
        }
      ]
    },
    {
      "cell_type": "markdown",
      "source": [
        "LOGISTIC REGRESSION"
      ],
      "metadata": {
        "id": "06x6nwFzwLqQ"
      }
    },
    {
      "cell_type": "code",
      "source": [
        "logreg_classifier = LogisticRegression(max_iter=1000, random_state=42)\n",
        "\n",
        "# Train the classifier\n",
        "logreg_classifier.fit(X_train_dsent_vectorized, y_train_dsent)\n",
        "\n",
        "# Make predictions on the test set\n",
        "sent_lr_predictions = logreg_classifier.predict(X_test_dsent_vectorized)\n",
        "\n",
        "# Evaluate the accuracy of the model\n",
        "accuracy = accuracy_score(y_test_dsent, sent_lr_predictions)\n",
        "print(f\"Accuracy: {accuracy * 100:.2f}%\")"
      ],
      "metadata": {
        "colab": {
          "base_uri": "https://localhost:8080/"
        },
        "id": "qO2WWWwzhkSd",
        "outputId": "ed17172c-1fdc-4ffb-c74c-8fdf8093eb3d"
      },
      "execution_count": null,
      "outputs": [
        {
          "output_type": "stream",
          "name": "stdout",
          "text": [
            "Accuracy: 84.50%\n"
          ]
        }
      ]
    },
    {
      "cell_type": "markdown",
      "source": [
        "KNN"
      ],
      "metadata": {
        "id": "G15u6NDbwN0B"
      }
    },
    {
      "cell_type": "code",
      "source": [
        "\n",
        "knn_classifier = KNeighborsClassifier(n_neighbors=5)  # You can adjust the number of neighbors (n_neighbors) based on your specific requirements\n",
        "\n",
        "# Train the classifier\n",
        "knn_classifier.fit(X_train_dsent_vectorized, y_train_dsent)\n",
        "\n",
        "# Make predictions on the test set\n",
        "sent_kn_predictions = knn_classifier.predict(X_test_dsent_vectorized)\n",
        "\n",
        "# Evaluate the accuracy of the model\n",
        "accuracy = accuracy_score(y_test_dsent, sent_kn_predictions)\n",
        "print(f\"Accuracy: {accuracy * 100:.2f}%\")"
      ],
      "metadata": {
        "colab": {
          "base_uri": "https://localhost:8080/"
        },
        "id": "uucj6-Z-hskJ",
        "outputId": "59f9d709-c2e4-45f0-deae-88ccebf4cc7c"
      },
      "execution_count": null,
      "outputs": [
        {
          "output_type": "stream",
          "name": "stdout",
          "text": [
            "Accuracy: 62.40%\n"
          ]
        }
      ]
    },
    {
      "cell_type": "markdown",
      "source": [
        "NAIVE BAYES"
      ],
      "metadata": {
        "id": "tXibAs5LwPGD"
      }
    },
    {
      "cell_type": "code",
      "source": [
        "nb_classifier = MultinomialNB()\n",
        "\n",
        "# Train the classifier\n",
        "nb_classifier.fit(X_train_dsent_vectorized, y_train_dsent)\n",
        "\n",
        "# Make predictions on the test set\n",
        "nb_dsent_predictions = nb_classifier.predict(X_test_dsent_vectorized)\n",
        "\n",
        "# Evaluate the accuracy of the model\n",
        "accuracy = accuracy_score(y_test_dsent, nb_dsent_predictions)\n",
        "print(f\"Accuracy: {accuracy * 100:.2f}%\")"
      ],
      "metadata": {
        "colab": {
          "base_uri": "https://localhost:8080/"
        },
        "id": "WYoCs2rShyLx",
        "outputId": "d8cf5609-55d4-41f4-b958-3eee8bf82a83"
      },
      "execution_count": null,
      "outputs": [
        {
          "output_type": "stream",
          "name": "stdout",
          "text": [
            "Accuracy: 80.30%\n"
          ]
        }
      ]
    },
    {
      "cell_type": "markdown",
      "source": [
        "HYBRID MODEL OF LOGISTIC REGRESSION AND NAIVE BAYES"
      ],
      "metadata": {
        "id": "Ikv2Mzh0opag"
      }
    },
    {
      "cell_type": "code",
      "source": [
        "\n",
        "from sklearn.ensemble import VotingClassifier\n",
        "from sklearn.metrics import accuracy_score\n",
        "\n",
        "\n",
        "X_train, X_test, y_train, y_test = train_test_split(X, y, test_size=0.2, random_state=42)\n",
        "\n",
        "# Create the TfidfVectorizer to convert text data to numerical features\n",
        "tfidf_vectorizer = TfidfVectorizer(max_features=5000)\n",
        "X_train_tfidf = tfidf_vectorizer.fit_transform(X_train)\n",
        "X_test_tfidf = tfidf_vectorizer.transform(X_test)\n",
        "\n",
        "# Create individual models\n",
        "logistic_regression_model = LogisticRegression(random_state=42)\n",
        "naive_bayes_model = MultinomialNB()\n",
        "\n",
        "# Create a Voting Classifier with a soft voting strategy\n",
        "voting_classifier = VotingClassifier(estimators=[\n",
        "    ('logistic_regression', logistic_regression_model),\n",
        "    ('naive_bayes', naive_bayes_model)\n",
        "], voting='soft')\n",
        "\n",
        "# Train the ensemble model\n",
        "voting_classifier.fit(X_train_tfidf, y_train)\n",
        "\n",
        "# Make predictions on the test set\n",
        "predictions = voting_classifier.predict(X_test_tfidf)\n",
        "\n",
        "# Evaluate the hybrid model\n",
        "accuracy = accuracy_score(y_test, predictions)\n",
        "print(f\"Hybrid Model Accuracy: {accuracy}\")"
      ],
      "metadata": {
        "colab": {
          "base_uri": "https://localhost:8080/"
        },
        "id": "Xk90Ts95oHep",
        "outputId": "a261c967-4a52-41e8-e722-c3aac0b5706b"
      },
      "execution_count": null,
      "outputs": [
        {
          "output_type": "stream",
          "name": "stdout",
          "text": [
            "Hybrid Model Accuracy: 0.9001097694840834\n"
          ]
        }
      ]
    },
    {
      "cell_type": "markdown",
      "source": [
        "HATE CONTENT DETECTION"
      ],
      "metadata": {
        "id": "u2hI-LF8iAtP"
      }
    },
    {
      "cell_type": "markdown",
      "source": [
        "DECISION TREE"
      ],
      "metadata": {
        "id": "-d6FQV2FwSdK"
      }
    },
    {
      "cell_type": "code",
      "source": [
        "\n",
        "X = dhate['tweet']\n",
        "y = dhate['class']\n",
        "\n",
        "# Split the data into training and testing sets\n",
        "X_train_dhate, X_test_dhate, y_train_dhate, y_test_dhate = train_test_split(X, y, test_size=0.2, random_state=42)\n",
        "\n",
        "# Vectorize the text data using CountVectorizer\n",
        "vectorizer = CountVectorizer()\n",
        "X_train_dhate_vectorized = vectorizer.fit_transform(X_train_dhate)\n",
        "X_test_dhate_vectorized = vectorizer.transform(X_test_dhate)\n",
        "\n",
        "# Create a decision tree classifier\n",
        "clf = DecisionTreeClassifier()\n",
        "\n",
        "# Train the classifier\n",
        "clf.fit(X_train_dhate_vectorized, y_train_dhate)\n",
        "\n",
        "# Make predictions on the test set\n",
        "dhate_dc_predictions = clf.predict(X_test_dhate_vectorized)\n",
        "\n",
        "# Evaluate the accuracy of the model\n",
        "accuracy = accuracy_score(y_test_dhate, dhate_dc_predictions)\n",
        "print(f\"Accuracy: {accuracy * 100:.2f}%\")"
      ],
      "metadata": {
        "colab": {
          "base_uri": "https://localhost:8080/"
        },
        "id": "HQA_hi0viFcE",
        "outputId": "72420e3c-c248-4ebf-b073-5533c353f62a"
      },
      "execution_count": null,
      "outputs": [
        {
          "output_type": "stream",
          "name": "stdout",
          "text": [
            "Accuracy: 88.70%\n"
          ]
        }
      ]
    },
    {
      "cell_type": "code",
      "source": [
        "LOGISTIC REGRESSION"
      ],
      "metadata": {
        "id": "Pf3GeVT8wUiX"
      },
      "execution_count": null,
      "outputs": []
    },
    {
      "cell_type": "code",
      "source": [
        "logreg_classifier = LogisticRegression(max_iter=1000, random_state=42)\n",
        "\n",
        "# Train the classifier\n",
        "logreg_classifier.fit(X_train_dhate_vectorized, y_train_dhate)\n",
        "\n",
        "# Make predictions on the test set\n",
        "hate_lr_predictions = logreg_classifier.predict(X_test_dhate_vectorized)\n",
        "\n",
        "# Evaluate the accuracy of the model\n",
        "accuracy = accuracy_score(y_test_dhate, hate_lr_predictions)\n",
        "print(f\"Accuracy: {accuracy * 100:.2f}%\")\n",
        "\n"
      ],
      "metadata": {
        "colab": {
          "base_uri": "https://localhost:8080/"
        },
        "id": "yPLI17h9iJkY",
        "outputId": "b969b47f-0b19-4025-d9ce-66770c0a1674"
      },
      "execution_count": null,
      "outputs": [
        {
          "output_type": "stream",
          "name": "stdout",
          "text": [
            "Accuracy: 87.01%\n"
          ]
        }
      ]
    },
    {
      "cell_type": "code",
      "source": [
        "RANDOM FOREST"
      ],
      "metadata": {
        "id": "dKxUyUULwXjB"
      },
      "execution_count": null,
      "outputs": []
    },
    {
      "cell_type": "code",
      "source": [
        "\n",
        "rf_classifier = RandomForestClassifier(n_estimators=100, random_state=42)\n",
        "\n",
        "# Train the classifier\n",
        "rf_classifier.fit(X_train_dhate_vectorized, y_train_dhate)\n",
        "\n",
        "# Make predictions on the test set\n",
        "hate_rf_predictions = rf_classifier.predict(X_test_dhate_vectorized)\n",
        "\n",
        "# Evaluate the accuracy of the model\n",
        "accuracy = accuracy_score(y_test_dhate, hate_rf_predictions)\n",
        "print(f\"Accuracy: {accuracy * 100:.2f}%\")\n"
      ],
      "metadata": {
        "colab": {
          "base_uri": "https://localhost:8080/"
        },
        "id": "FshBpYsQiNlb",
        "outputId": "bdd71671-4b62-408f-8838-22d0c133667d"
      },
      "execution_count": null,
      "outputs": [
        {
          "output_type": "stream",
          "name": "stdout",
          "text": [
            "Accuracy: 89.97%\n"
          ]
        }
      ]
    },
    {
      "cell_type": "markdown",
      "source": [
        "KNN"
      ],
      "metadata": {
        "id": "5XkwL47IwZb1"
      }
    },
    {
      "cell_type": "code",
      "source": [
        "knn_classifier = KNeighborsClassifier(n_neighbors=5)  # You can adjust the number of neighbors (n_neighbors) based on your specific requirements\n",
        "\n",
        "# Train the classifier\n",
        "knn_classifier.fit(X_train_dhate_vectorized, y_train_dhate)\n",
        "\n",
        "# Make predictions on the test set\n",
        "hate_kn_predictions = knn_classifier.predict(X_test_dhate_vectorized)\n",
        "\n",
        "# Evaluate the accuracy of the model\n",
        "accuracy = accuracy_score(y_test_dhate, hate_kn_predictions)\n",
        "print(f\"Accuracy: {accuracy * 100:.2f}%\")"
      ],
      "metadata": {
        "colab": {
          "base_uri": "https://localhost:8080/"
        },
        "id": "abb3pDiWiWde",
        "outputId": "755c9e26-f15f-4131-b2b0-175c4573a33a"
      },
      "execution_count": null,
      "outputs": [
        {
          "output_type": "stream",
          "name": "stdout",
          "text": [
            "Accuracy: 81.68%\n"
          ]
        }
      ]
    },
    {
      "cell_type": "markdown",
      "source": [
        "NAIVE BAYES"
      ],
      "metadata": {
        "id": "5n1XDTQwwayk"
      }
    },
    {
      "cell_type": "code",
      "source": [
        "\n",
        "nb_classifier = MultinomialNB()\n",
        "\n",
        "# Train the classifier\n",
        "nb_classifier.fit(X_train_dhate_vectorized, y_train_dhate)\n",
        "\n",
        "# Make predictions on the test set\n",
        "nb_dhate_predictions = nb_classifier.predict(X_test_dhate_vectorized)\n",
        "\n",
        "# Evaluate the accuracy of the model\n",
        "accuracy = accuracy_score(y_test_dhate, nb_dhate_predictions)\n",
        "print(f\"Accuracy: {accuracy * 100:.2f}%\")"
      ],
      "metadata": {
        "colab": {
          "base_uri": "https://localhost:8080/"
        },
        "id": "i5t0In4siahY",
        "outputId": "afcb2680-4f31-4dae-97a6-a96cceffd51e"
      },
      "execution_count": null,
      "outputs": [
        {
          "output_type": "stream",
          "name": "stdout",
          "text": [
            "Accuracy: 85.33%\n"
          ]
        }
      ]
    },
    {
      "cell_type": "markdown",
      "source": [
        "HYBRID MODEL OF DECISION TREE AND RANDOM FOREST"
      ],
      "metadata": {
        "id": "VlLXeZAorJPs"
      }
    },
    {
      "cell_type": "code",
      "source": [
        "from sklearn.ensemble import  VotingClassifier\n",
        "from sklearn.metrics import accuracy_score\n",
        "\n",
        "X_train, X_test, y_train, y_test = train_test_split(X, y, test_size=0.2, random_state=42)\n",
        "\n",
        "# Create the TfidfVectorizer to convert text data to numerical features\n",
        "tfidf_vectorizer = TfidfVectorizer(max_features=5000)\n",
        "X_train_tfidf = tfidf_vectorizer.fit_transform(X_train)\n",
        "X_test_tfidf = tfidf_vectorizer.transform(X_test)\n",
        "\n",
        "# Create individual models\n",
        "decision_tree_model = DecisionTreeClassifier(random_state=42)\n",
        "random_forest_model = RandomForestClassifier(n_estimators=100, random_state=42)\n",
        "\n",
        "# Create a Voting Classifier with a soft voting strategy\n",
        "voting_classifier = VotingClassifier(estimators=[\n",
        "    ('decision_tree', decision_tree_model),\n",
        "    ('random_forest', random_forest_model)\n",
        "], voting='soft')\n",
        "\n",
        "# Train the ensemble model\n",
        "voting_classifier.fit(X_train_tfidf, y_train)\n",
        "\n",
        "# Make predictions on the test set\n",
        "predictions = voting_classifier.predict(X_test_tfidf)\n",
        "\n",
        "# Evaluate the hybrid model\n",
        "accuracy = accuracy_score(y_test, predictions)\n",
        "print(f\"Hybrid Model Accuracy: {accuracy * 100:.2f}%\")"
      ],
      "metadata": {
        "colab": {
          "base_uri": "https://localhost:8080/"
        },
        "id": "CyznPZhkpKQX",
        "outputId": "9710ae00-bb7c-4e24-fde2-55561aa125f9"
      },
      "execution_count": null,
      "outputs": [
        {
          "output_type": "stream",
          "name": "stdout",
          "text": [
            "Hybrid Model Accuracy: 91.99%\n"
          ]
        }
      ]
    }
  ]
}